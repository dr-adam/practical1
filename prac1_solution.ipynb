{
 "cells": [
  {
   "cell_type": "markdown",
   "metadata": {},
   "source": [
    "# Introduction to Data Mining"
   ]
  },
  {
   "cell_type": "markdown",
   "metadata": {},
   "source": [
    "This is the first tutorial - it provides a quick introduction to Python and IPython."
   ]
  },
  {
   "cell_type": "markdown",
   "metadata": {},
   "source": [
    "### Python"
   ]
  },
  {
   "cell_type": "markdown",
   "metadata": {},
   "source": [
    "Python is a programming language that has been growing in popularity in recent years. There are many reasons for this, but it mostly comes down to Python being easy to learn and use as well as the fact that Python has a very active community that develops amazing extensions to Python!\n",
    "\n",
    "Python has become one of the most frequently used languages in the world of data science due to the ability to almost instantly apply it to a large number of data science problems. When asking companies in different industries and of various sizes what lanuage they would like their data scientists to know when coming in, they almost all agree that Python is the best choice. \n",
    "\n",
    "Most of you have had experience in Java. Both share many characteristics given they are both programming languages and many structures and concepts will be familiar. However, there are differences. You may find you prefer python and it may allow you to be more productive, not just because of the provision of many libraries which implement Data Mining algorithms. \n",
    "\n",
    "Some key differences between Python and Java are:\n",
    "- Python is dynamically typed while Java is statically typed, this has various implications including you never need to declare variables in Python\n",
    "- Python code is more concise (briefer)\n",
    "- Python is more compact\n",
    "\n",
    "For example, the following program is in Java:\n",
    "<br>\n",
    "public class HelloWorld\n",
    "<br>\n",
    "{\n",
    "<br>\n",
    "    public static void main (String[] args)\n",
    "    <br>\n",
    "    {\n",
    "    <br>\n",
    "        System.out.println(\"Hellold!\");\n",
    "        <br>\n",
    "    }\n",
    "    <br>\n",
    "}\n",
    "<br>\n",
    "\n",
    "In Python the equivalent program is \n",
    "<br>\n",
    "print(\"Hello, world!\") # Python version 3\n"
   ]
  },
  {
   "cell_type": "markdown",
   "metadata": {},
   "source": [
    "### Python? IPython? IPython notebooks? What is all of this?"
   ]
  },
  {
   "cell_type": "markdown",
   "metadata": {},
   "source": [
    "What is all of this? \n",
    "- Python? \n",
    "- IPython? \n",
    "- IPython notebooks?\n",
    "\n",
    "For you, these terms may be confusing? Don't worry its ok... \n",
    "\n",
    "Python is a lanuage. A computer programming language. It is very popular in lots of industries. It has been around for over 30 years. Development of Python started in December 1989 by Guido van Rossum at Centrum Wiskunde & Informatica (CWI) in the Netherlands.\n",
    "\n",
    "IPython (with an I) is an extension to Python. It was created by scientists for scientists. It is typically used in computer science, machine learning, and physics research. It simply adds some new features to Python.\n",
    "Writing code in either of these is generally done in a long text document with a ton of code that can be pretty duanting to a someone new to the world of programming.\n",
    "\n",
    "IPython Notebooks (with an I, there is no such thing as a Python notebook) is what we are looking at right now. It is a web browser based way of writing Python code. One of the benefits is that it allows you to write in plain text to create, what should feel like, a notebook. The closest analog here would be to relate an IPython notebook to a typical lab notebook kept by \"traditional\" researchers. Anyone coming from chemistry or biology will probably understand what I mean.\n",
    "We will be using IPython notebooks for the rest of the semester. A majority of your class notes will be presented in this format. This will allow us to both have a place for discussion and instruction, but with the added benefit of allowing us to play with data live! \n",
    "\n",
    "The rest of this document will be broken into two main pieces: an introduction to IPython notebooks (how to use them) and then an introduction to the world of Python programming."
   ]
  },
  {
   "cell_type": "markdown",
   "metadata": {},
   "source": [
    "### IPython Notebooks"
   ]
  },
  {
   "cell_type": "markdown",
   "metadata": {},
   "source": [
    "IPython notebooks are made up of cells. There are two basics types of entries in an IPython notebook: text cells, and code cells.\n",
    "\n",
    "You can edit a cell by double clicking on it. You can get it back to the display mode by pressing the \"Run\" button from the toolbar. Try it! To switch between text and code cells, just click a cell and go to \"Cell > Cell Type\" in the menu bar (or use the toolbar)."
   ]
  },
  {
   "cell_type": "markdown",
   "metadata": {},
   "source": [
    "#### Text Cells"
   ]
  },
  {
   "cell_type": "markdown",
   "metadata": {},
   "source": [
    "Let's start a new cell and add a little bit more text.\n",
    "\n",
    "You can do text formatting. For example, you can use asterisks or underscores to emphasize things. Double asterisks are used to make things bold.\n",
    "\n",
    "If you know what LaTeX is, you can write directly in LaTeX by wrapping it in dollar signs, $x = \\frac{-b \\pm \\sqrt{b^2 - 4ac}}{2a}$. Learning $\\LaTeX$ is great for typesetting math formulas.\n",
    "\n",
    "Creating a bulleted list is pretty easy:\n",
    "- One\n",
    "- Two\n",
    "- Three\n",
    "\n",
    "It is also very easy to make a numbered list:\n",
    "1. One\n",
    "1. Two\n",
    "1. Three\n",
    "\n",
    "For a numbered list, start with 1. followed by a space, then it starts numbering for you. Start each line with some number (any number) and a period, then a space. Tab to indent to get subnumbering.\n",
    "\n",
    "This covers almost all of the text formatting you will need to learn. If you are ever stuck, just Google \"Markdown syntax\" since the language the formatting is done in is called Markdown."
   ]
  },
  {
   "cell_type": "markdown",
   "metadata": {},
   "source": [
    "#### Code Cells"
   ]
  },
  {
   "cell_type": "markdown",
   "metadata": {},
   "source": [
    "Now, we will see a \"code\" cell. Here, we simply type any Python code and then click \"Run\". When we run a cell, the code in it is executed and remembered for as long as we keep this window open - this means if you create a variable in a code cell you can refer to the variable by its name in other subsequent cells. Code cells will always start with \"In [ ]:\". Code cells are the default for any new cell."
   ]
  },
  {
   "cell_type": "code",
   "execution_count": 4,
   "metadata": {},
   "outputs": [],
   "source": [
    "x = 5 + 10"
   ]
  },
  {
   "cell_type": "code",
   "execution_count": 7,
   "metadata": {},
   "outputs": [
    {
     "name": "stdout",
     "output_type": "stream",
     "text": [
      "15\n"
     ]
    }
   ],
   "source": [
    "print (x)"
   ]
  },
  {
   "cell_type": "markdown",
   "metadata": {},
   "source": [
    "You can include more complex expressions or programs in a cell as well:"
   ]
  },
  {
   "cell_type": "code",
   "execution_count": 9,
   "metadata": {},
   "outputs": [
    {
     "name": "stdout",
     "output_type": "stream",
     "text": [
      "The value of x is 6.\n",
      "Output: Hi! This is a cell. Press the ▶| button above to run it\n"
     ]
    }
   ],
   "source": [
    "x = 5 + 1\n",
    "print (\"The value of x is \" + str(x) + \".\")\n",
    "print (\"Output: Hi! This is a cell. Press the ▶| button above to run it\")"
   ]
  },
  {
   "cell_type": "markdown",
   "metadata": {},
   "source": [
    "Instead of clicking \"Play\" button, you can run a cell with Ctrl + Enter or Shift + Enter. \n",
    "<br>\n",
    "Experiment with both of those to see what the difference is."
   ]
  },
  {
   "cell_type": "markdown",
   "metadata": {},
   "source": [
    "### Python"
   ]
  },
  {
   "cell_type": "markdown",
   "metadata": {},
   "source": [
    "Let us now examine some of the key elements of Python"
   ]
  },
  {
   "cell_type": "markdown",
   "metadata": {},
   "source": [
    "#### Variables and data types"
   ]
  },
  {
   "cell_type": "markdown",
   "metadata": {},
   "source": [
    "Variables are used to store data. This data can be of a variety of types. Integer numbers, floating (decimal numbers), lists, strings, etc. Let's take a look at some of these:"
   ]
  },
  {
   "cell_type": "code",
   "execution_count": 8,
   "metadata": {},
   "outputs": [],
   "source": [
    "some_integer = 5\n",
    "some_float = 7.1\n",
    "some_list = [1, 2, 3, 4]\n",
    "some_string = \"Rob\""
   ]
  },
  {
   "cell_type": "markdown",
   "metadata": {},
   "source": [
    "We can print out these variables."
   ]
  },
  {
   "cell_type": "code",
   "execution_count": 9,
   "metadata": {},
   "outputs": [
    {
     "name": "stdout",
     "output_type": "stream",
     "text": [
      "5\n",
      "7.1\n",
      "[1, 2, 3, 4]\n",
      "Rob\n"
     ]
    }
   ],
   "source": [
    "print (some_integer)\n",
    "print (some_float)\n",
    "print (some_list)\n",
    "print (some_string)"
   ]
  },
  {
   "cell_type": "markdown",
   "metadata": {},
   "source": [
    "What if I want to print some text and then some numbers? One easy way to do this is to realize that printing will always want string data. If you have data that is not a string (like an integer or float), you can convert it to a string."
   ]
  },
  {
   "cell_type": "markdown",
   "metadata": {},
   "source": [
    "print (\"My integer was \" + str(some_integer) + \".\")"
   ]
  },
  {
   "cell_type": "markdown",
   "metadata": {},
   "source": [
    "It is always a good practice to convert everything to a string when printing it out such as by using the function str().\n",
    "\n",
    "Now we look at some basic maths."
   ]
  },
  {
   "cell_type": "code",
   "execution_count": 12,
   "metadata": {},
   "outputs": [
    {
     "data": {
      "text/plain": [
       "12.1"
      ]
     },
     "execution_count": 12,
     "metadata": {},
     "output_type": "execute_result"
    }
   ],
   "source": [
    "some_integer + some_float"
   ]
  },
  {
   "cell_type": "markdown",
   "metadata": {},
   "source": [
    "We can store this as a new variable to use later,"
   ]
  },
  {
   "cell_type": "code",
   "execution_count": 15,
   "metadata": {},
   "outputs": [],
   "source": [
    "my_sum = some_integer + some_float"
   ]
  },
  {
   "cell_type": "code",
   "execution_count": 17,
   "metadata": {},
   "outputs": [
    {
     "name": "stdout",
     "output_type": "stream",
     "text": [
      "12.1\n"
     ]
    }
   ],
   "source": [
    "print (my_sum)"
   ]
  },
  {
   "cell_type": "markdown",
   "metadata": {},
   "source": [
    "What about that list we had? What does that mean? A list is exactly what it sounds like. It's a way to keep a collection of things in order. We can check to see how long our list is,"
   ]
  },
  {
   "cell_type": "code",
   "execution_count": 19,
   "metadata": {},
   "outputs": [
    {
     "name": "stdout",
     "output_type": "stream",
     "text": [
      "4\n"
     ]
    }
   ],
   "source": [
    "print( len(some_list) )"
   ]
  },
  {
   "cell_type": "markdown",
   "metadata": {},
   "source": [
    "This looks good. Our list contained the numbers 1 through 4. What if we want a particular item from the list? How do we look at just the first item? To do a lookup, we use square brackets. Notice that when we created the list originally, we also used square brackets!"
   ]
  },
  {
   "cell_type": "code",
   "execution_count": 20,
   "metadata": {},
   "outputs": [
    {
     "name": "stdout",
     "output_type": "stream",
     "text": [
      "2\n"
     ]
    }
   ],
   "source": [
    "print( some_list[1] )"
   ]
  },
  {
   "cell_type": "markdown",
   "metadata": {},
   "source": [
    "That's the second item, not the first! In Python (and almost every other language), counting start at zero! To get the first item we should look in the 0th space,"
   ]
  },
  {
   "cell_type": "code",
   "execution_count": 22,
   "metadata": {},
   "outputs": [
    {
     "name": "stdout",
     "output_type": "stream",
     "text": [
      "1\n"
     ]
    }
   ],
   "source": [
    "print( some_list[0] )"
   ]
  },
  {
   "cell_type": "markdown",
   "metadata": {},
   "source": [
    "Adding things to the list is done using the append method,"
   ]
  },
  {
   "cell_type": "code",
   "execution_count": 23,
   "metadata": {},
   "outputs": [],
   "source": [
    "some_list.append(5)"
   ]
  },
  {
   "cell_type": "code",
   "execution_count": 24,
   "metadata": {},
   "outputs": [
    {
     "name": "stdout",
     "output_type": "stream",
     "text": [
      "[1, 2, 3, 4, 5]\n"
     ]
    }
   ],
   "source": [
    "print (some_list)"
   ]
  },
  {
   "cell_type": "code",
   "execution_count": null,
   "metadata": {},
   "outputs": [],
   "source": [
    "# Play around here!\n",
    "# By the way, the pound (hash) symbol here is used to indicate a comment in code.\n"
   ]
  },
  {
   "cell_type": "markdown",
   "metadata": {},
   "source": [
    "#### Functions"
   ]
  },
  {
   "cell_type": "markdown",
   "metadata": {},
   "source": [
    "We have already used these twice! Functions allow us to do predefined operations. Functions are usually some sensible English word ending in open-and-close parentheses. One example is the s"
   ]
  },
  {
   "cell_type": "code",
   "execution_count": 25,
   "metadata": {},
   "outputs": [
    {
     "data": {
      "text/plain": [
       "'5.124'"
      ]
     },
     "execution_count": 25,
     "metadata": {},
     "output_type": "execute_result"
    }
   ],
   "source": [
    "str(5.124)"
   ]
  },
  {
   "cell_type": "markdown",
   "metadata": {},
   "source": [
    "We also used the append() function to add stuff to a list.\n",
    "\n",
    "If we knew we had to do some operation many times, and wanted to save a bit of time, we could define our own function. For example, consider having to calculate the area of a circle."
   ]
  },
  {
   "cell_type": "code",
   "execution_count": 26,
   "metadata": {},
   "outputs": [],
   "source": [
    "def area_of_a_circle(radius):\n",
    "    area = 3.14 * radius * radius\n",
    "    return area"
   ]
  },
  {
   "cell_type": "code",
   "execution_count": 28,
   "metadata": {},
   "outputs": [
    {
     "name": "stdout",
     "output_type": "stream",
     "text": [
      "78.5\n"
     ]
    }
   ],
   "source": [
    "circle_area = area_of_a_circle(5)\n",
    "print( circle_area )"
   ]
  },
  {
   "cell_type": "markdown",
   "metadata": {},
   "source": [
    "This function was helpfully named \"area_of_a_circle\", it takes one argument that we will call radius. It then uses this radius to get the area and then returns it. Now, whenever I want to get the area of some circle, I simply call area_of_a_circle() and place the radius in the middle of the parentheses.\n",
    "\n",
    "Python has many functions, but we will be writing our own very often."
   ]
  },
  {
   "cell_type": "markdown",
   "metadata": {},
   "source": [
    "#### Loops"
   ]
  },
  {
   "cell_type": "markdown",
   "metadata": {},
   "source": [
    "We will be doing a lot of repetative things in Python. This doesn't mean we need to do a ton of copy and pasting, though. We can use loops to make this easy. For example, if we wanted to square each"
   ]
  },
  {
   "cell_type": "code",
   "execution_count": 30,
   "metadata": {},
   "outputs": [
    {
     "name": "stdout",
     "output_type": "stream",
     "text": [
      "1\n",
      "4\n",
      "9\n",
      "16\n",
      "25\n"
     ]
    }
   ],
   "source": [
    "for number in [1, 2, 3, 4, 5]:\n",
    "    print (number * number)"
   ]
  },
  {
   "cell_type": "markdown",
   "metadata": {},
   "source": [
    "The range function makes this even easier,"
   ]
  },
  {
   "cell_type": "code",
   "execution_count": 31,
   "metadata": {},
   "outputs": [
    {
     "name": "stdout",
     "output_type": "stream",
     "text": [
      "0\n",
      "1\n",
      "4\n",
      "9\n",
      "16\n"
     ]
    }
   ],
   "source": [
    "for number in range(5):\n",
    "    print (number * number)"
   ]
  },
  {
   "cell_type": "markdown",
   "metadata": {},
   "source": [
    "Not exactly the same... the range function will start from 0 and go to the last number minus one. We can fix this by telling it to start at 1:"
   ]
  },
  {
   "cell_type": "code",
   "execution_count": 33,
   "metadata": {},
   "outputs": [
    {
     "name": "stdout",
     "output_type": "stream",
     "text": [
      "1\n",
      "4\n",
      "9\n",
      "16\n",
      "25\n"
     ]
    }
   ],
   "source": [
    "for number in range(1, 6):\n",
    "    print (number * number)"
   ]
  },
  {
   "cell_type": "markdown",
   "metadata": {},
   "source": [
    "We aren't limited to this, let's bring in another list:"
   ]
  },
  {
   "cell_type": "code",
   "execution_count": 38,
   "metadata": {},
   "outputs": [
    {
     "name": "stdout",
     "output_type": "stream",
     "text": [
      "Robert is 26 years old.\n",
      "John is 31 years old.\n",
      "Sarah is 29 years old.\n",
      "Qian is 24 years old.\n",
      "Ahmad is 30 years old.\n"
     ]
    }
   ],
   "source": [
    "names = [\"Robert\", \"John\", \"Sarah\", \"Qian\", \"Ahmad\"]\n",
    "ages = [26, 31, 29, 24, 30]\n",
    "\n",
    "for i in range(len(names)):\n",
    "    print (str(names[i]) + \" is \" + str(ages[i]) + \" years old.\")"
   ]
  },
  {
   "cell_type": "markdown",
   "metadata": {},
   "source": [
    "#### Conditionals"
   ]
  },
  {
   "cell_type": "markdown",
   "metadata": {},
   "source": [
    "Sometimes we want to check something before deciding what to do next. For example,"
   ]
  },
  {
   "cell_type": "code",
   "execution_count": 39,
   "metadata": {},
   "outputs": [],
   "source": [
    "def is_best_prof(name):\n",
    "    if name == \"Adam\":\n",
    "        return \"Yes!\"\n",
    "    else:\n",
    "        return \"No!\""
   ]
  },
  {
   "cell_type": "code",
   "execution_count": 42,
   "metadata": {},
   "outputs": [
    {
     "name": "stdout",
     "output_type": "stream",
     "text": [
      "Yes!\n"
     ]
    }
   ],
   "source": [
    "print (is_best_prof(\"Adam\"))"
   ]
  },
  {
   "cell_type": "code",
   "execution_count": 44,
   "metadata": {},
   "outputs": [
    {
     "name": "stdout",
     "output_type": "stream",
     "text": [
      "No!\n"
     ]
    }
   ],
   "source": [
    "print (is_best_prof(\"John\"))"
   ]
  },
  {
   "cell_type": "markdown",
   "metadata": {},
   "source": [
    "#### Packages"
   ]
  },
  {
   "cell_type": "markdown",
   "metadata": {},
   "source": [
    "Python has a ton of packages that make doing complicated stuff very easy. We won't discuss how to install packages, or give a detailed list of what packages exist, but we will give a brief description about how they are used. An easy way to think of why package are useful is by thinking: \"Python packages give us access to MANY functions!\"\n",
    "\n",
    "In this class we will use four packages very frequently: pandas, sklearn, matplotlib, and numpy:\n",
    "\n",
    "- pandas is a data manipulation package. It let's you store data in data frames. More on this next class.\n",
    "- sklearn is a machine learning and data science package. It let's you do fairly complicated machine learning tasks, such as running regressions and building classification models with only a few lines of code!\n",
    "- matplotlib let's you make nice looking plots.\n",
    "- numpy (pronounced num-pie) is used for doing \"math stuff\" such as complex math operations (e.g., square roots, exponents, logs) and give you complex matrix operation abilities.\n",
    "If it's confusing as to why this is useful, don't worry. As we use them throughout the semester, their usefulness will become apparent.\n",
    "\n",
    "To make the contents of a package useful, you need to import it:"
   ]
  },
  {
   "cell_type": "code",
   "execution_count": 48,
   "metadata": {},
   "outputs": [],
   "source": [
    "import pandas\n",
    "import sklearn\n",
    "import matplotlib\n",
    "import numpy"
   ]
  },
  {
   "cell_type": "markdown",
   "metadata": {},
   "source": [
    "We can now use some package specific things. For example, numpy has a function called sqrt() which will give us the square root of a numpy. Since it is part of numpy, we need to tell Python that's where it is by using a dot."
   ]
  },
  {
   "cell_type": "code",
   "execution_count": 49,
   "metadata": {},
   "outputs": [
    {
     "data": {
      "text/plain": [
       "5.0"
      ]
     },
     "execution_count": 49,
     "metadata": {},
     "output_type": "execute_result"
    }
   ],
   "source": [
    "numpy.sqrt(25)"
   ]
  },
  {
   "cell_type": "markdown",
   "metadata": {},
   "source": [
    "You may have noticed that earlier, when we added stuff to our list, we used .append(). This is very similar! Here, we told Python that numpy had a function called sqrt() that we would like to use. Earlier, we told Python that our list (and all lists!) had a function called append() that we would like to use.\n",
    "\n",
    "That's all we say about packages for now. Soon, we will be using packages in every class. With practice, you will understand why they are so great!"
   ]
  },
  {
   "cell_type": "markdown",
   "metadata": {},
   "source": [
    "### IPython Notebooks"
   ]
  },
  {
   "cell_type": "markdown",
   "metadata": {},
   "source": [
    "IPython notebooks make writing Python code easy and neat."
   ]
  },
  {
   "cell_type": "markdown",
   "metadata": {},
   "source": [
    "#### Auto complete"
   ]
  },
  {
   "cell_type": "markdown",
   "metadata": {},
   "source": [
    "One of the most useful things about IPython notebook is its tab completion.\n",
    "\n",
    "Try this: click just after numpy. in the cell below and press Tab several times, slowly to view candidate functions you might want to call"
   ]
  },
  {
   "cell_type": "code",
   "execution_count": null,
   "metadata": {},
   "outputs": [],
   "source": [
    "numpy."
   ]
  },
  {
   "cell_type": "markdown",
   "metadata": {},
   "source": [
    "#### Organisation"
   ]
  },
  {
   "cell_type": "markdown",
   "metadata": {},
   "source": [
    "We typically read IPython notebooks from top to bottom. This means that if a cell relies on a variable or function that was created earlier in the notebook, you must run the corresponding cell to make that information available! For example, if I set the variable  age equal to 26 in the next cell,"
   ]
  },
  {
   "cell_type": "code",
   "execution_count": 53,
   "metadata": {},
   "outputs": [],
   "source": [
    "age = 26"
   ]
  },
  {
   "cell_type": "markdown",
   "metadata": {},
   "source": [
    "but don't run it, it will not be available in the next cell:"
   ]
  },
  {
   "cell_type": "code",
   "execution_count": 55,
   "metadata": {},
   "outputs": [
    {
     "name": "stdout",
     "output_type": "stream",
     "text": [
      "I am 26 years old!\n"
     ]
    }
   ],
   "source": [
    "print (\"I am \" + str(age) + \" years old!\")"
   ]
  },
  {
   "cell_type": "markdown",
   "metadata": {},
   "source": [
    "Now, this does not mean you have to run everything from top to bottom. You could define age later in the notebook, and then scroll up and run any other cells that require it. However, this is bad practice. How is someone supposed to know to scroll down first!? The IPython notebook will always remember the cells in the order you run them. This means you can overwrite variables!"
   ]
  },
  {
   "cell_type": "code",
   "execution_count": 57,
   "metadata": {},
   "outputs": [],
   "source": [
    "gender = \"male\""
   ]
  },
  {
   "cell_type": "code",
   "execution_count": 58,
   "metadata": {},
   "outputs": [
    {
     "name": "stdout",
     "output_type": "stream",
     "text": [
      "male\n"
     ]
    }
   ],
   "source": [
    "print (gender)"
   ]
  },
  {
   "cell_type": "code",
   "execution_count": 61,
   "metadata": {},
   "outputs": [],
   "source": [
    "gender = \"female\""
   ]
  },
  {
   "cell_type": "code",
   "execution_count": 62,
   "metadata": {
    "scrolled": true
   },
   "outputs": [
    {
     "name": "stdout",
     "output_type": "stream",
     "text": [
      "female\n"
     ]
    }
   ],
   "source": [
    "print (gender)"
   ]
  },
  {
   "cell_type": "markdown",
   "metadata": {},
   "source": [
    "This can get confusing. Notice that the number in the \"In [#]:\" statement will always increase by one for every cell you run. This will make keeping track of everything a little easier. But it is recommended to always recommend organizing from top to bottom."
   ]
  },
  {
   "cell_type": "markdown",
   "metadata": {},
   "source": [
    "#### Saving"
   ]
  },
  {
   "cell_type": "markdown",
   "metadata": {},
   "source": [
    "There is an autosave feature and you can also use the save button in the menu or toolbar."
   ]
  },
  {
   "cell_type": "markdown",
   "metadata": {},
   "source": [
    "### Further Information"
   ]
  },
  {
   "cell_type": "markdown",
   "metadata": {},
   "source": [
    "The resources here are endless; but people learn things in different ways. Some people prefer books, others like being taught through lessons, and others just learn by doing. I, unfortunately, learn by doing which means that I'm not an expert on which resources are the best.\n",
    "\n",
    "- <a href=\"http://www.icourse163.org\">icourse163.org</a> has python courses.\n",
    "- <a href=\"https://www.codecademy.com/learn/python\">Codecademy's Python Course</a> will give you a great foundation for Python.\n",
    "- The online book, <a href=\"http://www.diveintopython.net/toc/index.html\"> Diving into Python</a>, has proven to be useful for many people. \n",
    "- ...\n",
    "- Personally, I try to think of a cool project I want to work on and I just try to do it. For example, trying to build a simple interactive text game can be fun. Since you are just jumping in and doing Python, this will lead to a ton of furious searching online. This is normal. This is actually how professional programmers work every day... <a href=\"http://stackoverflow.com\">Stackoverflow.com</a> for instance has an answer to any programming question you can imagine!"
   ]
  },
  {
   "cell_type": "markdown",
   "metadata": {},
   "source": [
    "### Coding Questions"
   ]
  },
  {
   "cell_type": "markdown",
   "metadata": {},
   "source": [
    "To master your new found knowledge of Python, you should try these hands-on examples. "
   ]
  },
  {
   "cell_type": "markdown",
   "metadata": {},
   "source": [
    "1\\. Create a list of 5 fruits (make sure to include an apple)."
   ]
  },
  {
   "cell_type": "code",
   "execution_count": 17,
   "metadata": {},
   "outputs": [
    {
     "data": {
      "text/plain": [
       "['apple', 'pear', 'orange', 'pinapple', 'mandarin']"
      ]
     },
     "execution_count": 17,
     "metadata": {},
     "output_type": "execute_result"
    }
   ],
   "source": [
    "my_list = [\"apple\", \"pear\", \"orange\", \"pinapple\",\"mandarin\"]\n",
    "my_list"
   ]
  },
  {
   "cell_type": "markdown",
   "metadata": {},
   "source": [
    "2\\. Go through each fruit and check if it is an apple. If it is, print out \"I found it!\". If it's not an apple, do nothing."
   ]
  },
  {
   "cell_type": "code",
   "execution_count": 18,
   "metadata": {},
   "outputs": [
    {
     "name": "stdout",
     "output_type": "stream",
     "text": [
      "found it!\n"
     ]
    }
   ],
   "source": [
    "for  fruit in my_list :\n",
    "    if (fruit == \"apple\"):\n",
    "        print (\"found it!\")"
   ]
  },
  {
   "cell_type": "markdown",
   "metadata": {},
   "source": [
    "3\\. Add two new fruits to your list."
   ]
  },
  {
   "cell_type": "code",
   "execution_count": 19,
   "metadata": {},
   "outputs": [
    {
     "data": {
      "text/plain": [
       "['apple', 'pear', 'orange', 'pinapple', 'mandarin', 'bannana', 'kiwi']"
      ]
     },
     "execution_count": 19,
     "metadata": {},
     "output_type": "execute_result"
    }
   ],
   "source": [
    "my_list.append(\"bannana\")\n",
    "my_list.append(\"kiwi\")\n",
    "my_list"
   ]
  },
  {
   "cell_type": "markdown",
   "metadata": {},
   "source": [
    "4\\. Create a new empty list. Go through your list of fruits, and for each one, add an entry to the new list that tells us how many letters each fruit name is."
   ]
  },
  {
   "cell_type": "code",
   "execution_count": 34,
   "metadata": {},
   "outputs": [
    {
     "name": "stdout",
     "output_type": "stream",
     "text": [
      "apple has 5 letters\n",
      "pear has 4 letters\n",
      "orange has 6 letters\n",
      "pinapple has 8 letters\n",
      "mandarin has 8 letters\n",
      "bannana has 7 letters\n",
      "kiwi has 4 letters\n"
     ]
    }
   ],
   "source": [
    "for  fruit in my_list :\n",
    "    print (\"{:s} has {:d} letters\".format(fruit,len(fruit)))"
   ]
  },
  {
   "cell_type": "markdown",
   "metadata": {},
   "source": [
    "5\\. Make a function called half_squared that takes a list and returns a new list where each element of the original is squared and then divided in half."
   ]
  },
  {
   "cell_type": "code",
   "execution_count": 64,
   "metadata": {},
   "outputs": [],
   "source": [
    "def half_squared(input_list):\n",
    "    output_list = [] # What should we do?\n",
    "\n",
    "    return output_list"
   ]
  },
  {
   "cell_type": "code",
   "execution_count": 68,
   "metadata": {},
   "outputs": [
    {
     "data": {
      "text/plain": [
       "False"
      ]
     },
     "execution_count": 68,
     "metadata": {},
     "output_type": "execute_result"
    }
   ],
   "source": [
    "## test the function\n",
    "half_squared([3,3]) == [4.5,4.5]\n"
   ]
  }
 ],
 "metadata": {
  "kernelspec": {
   "display_name": "Python 3",
   "language": "python",
   "name": "python3"
  },
  "language_info": {
   "codemirror_mode": {
    "name": "ipython",
    "version": 3
   },
   "file_extension": ".py",
   "mimetype": "text/x-python",
   "name": "python",
   "nbconvert_exporter": "python",
   "pygments_lexer": "ipython3",
   "version": "3.6.4"
  }
 },
 "nbformat": 4,
 "nbformat_minor": 2
}
